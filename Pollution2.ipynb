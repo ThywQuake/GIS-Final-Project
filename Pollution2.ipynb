{
 "cells": [
  {
   "cell_type": "code",
   "execution_count": 1,
   "metadata": {},
   "outputs": [],
   "source": [
    "import ee\n",
    "from ee_jupyter.ipyleaflet import Map\n",
    "import ipyleaflet as ipyl\n",
    "from ipywidgets import Layout\n",
    "\n",
    "ee.Initialize()"
   ]
  },
  {
   "cell_type": "markdown",
   "metadata": {},
   "source": [
    "Some initialization..."
   ]
  },
  {
   "cell_type": "code",
   "execution_count": 2,
   "metadata": {},
   "outputs": [],
   "source": [
    "no2 = (\n",
    "    ee.ImageCollection(\"COPERNICUS/S5P/OFFL/L3_NO2\")\n",
    "    .filterDate(\"2019-01-01\", \"2019-12-31\")\n",
    "    .select(\"NO2_column_number_density\")\n",
    ")\n",
    "\n",
    "\n",
    "import json\n",
    "\n",
    "\n",
    "with open(\"../shp/china.json\", \"r\") as f:\n",
    "\n",
    "    data = json.load(f)\n",
    "\n",
    "china = ee.FeatureCollection(data)\n",
    "\n",
    "boundary = ee.Image().paint(china, 0, 1)"
   ]
  },
  {
   "cell_type": "code",
   "execution_count": 29,
   "metadata": {},
   "outputs": [
    {
     "data": {
      "application/vnd.jupyter.widget-view+json": {
       "model_id": "07f9eb4b743f478a95f88ac17e9012de",
       "version_major": 2,
       "version_minor": 0
      },
      "text/plain": [
       "Map(center=[35, 110], controls=(ZoomControl(options=['position', 'zoom_in_text', 'zoom_in_title', 'zoom_out_te…"
      ]
     },
     "execution_count": 29,
     "metadata": {},
     "output_type": "execute_result"
    }
   ],
   "source": [
    "map1 = Map(\n",
    "    center=[35, 110],\n",
    "    zoom=4,\n",
    "    layout=Layout(height=\"800px\"),\n",
    "    basemap=ipyl.basemaps.Esri.WorldImagery,\n",
    ")\n",
    "vis_params = {\n",
    "    \"min\": 0.00004,\n",
    "    \"max\": 0.0003,\n",
    "    \"palette\": [\"purple\", \"blue\", \"green\", \"yellow\", \"orange\", \"red\"],\n",
    "}\n",
    "map1.addLayer(no2.mean().clip(china), vis_params, \"NO2\")\n",
    "map1.addLayer(boundary, {\"palette\": \"grey\"}, \"boundary\")\n",
    "map1"
   ]
  },
  {
   "cell_type": "markdown",
   "metadata": {},
   "source": [
    "所以对于NOx来说是没有大问题的, 接下来我们看看SOx"
   ]
  },
  {
   "cell_type": "code",
   "execution_count": 28,
   "metadata": {
    "notebookRunGroups": {
     "groupValue": ""
    },
    "slideshow": {
     "slide_type": "fragment"
    },
    "tags": []
   },
   "outputs": [
    {
     "data": {
      "application/vnd.jupyter.widget-view+json": {
       "model_id": "31a02fe9005d4f92b6e63f8904c9d75a",
       "version_major": 2,
       "version_minor": 0
      },
      "text/plain": [
       "Map(center=[35, 110], controls=(ZoomControl(options=['position', 'zoom_in_text', 'zoom_in_title', 'zoom_out_te…"
      ]
     },
     "execution_count": 28,
     "metadata": {},
     "output_type": "execute_result"
    }
   ],
   "source": [
    "sox=ee.ImageCollection(\"COPERNICUS/S5P/OFFL/L3_SO2\").filterDate(\"2019-01-01\", \"2019-12-31\").select(\"SO2_column_number_density\")\n",
    "map2=Map(center=[35, 110], zoom=4, layout=Layout(height=\"800px\"), basemap=ipyl.basemaps.Esri.WorldImagery)\n",
    "vis_params = {\"min\": -0.00005, \"max\": 0.0005, \"palette\": [\"purple\", \"blue\", \"green\", \"yellow\", \"orange\", \"red\"]}\n",
    "map2.addLayer(sox.mean().clip(china), vis_params, \"SO2\")\n",
    "map2.addLayer(boundary, {\"palette\": \"grey\"}, \"boundary\")\n",
    "map2"
   ]
  },
  {
   "cell_type": "markdown",
   "metadata": {},
   "source": [
    "那么关于Pollution的图像也没有什么问题了,\n",
    "\n",
    "接下来进入数据融合处理阶段"
   ]
  }
 ],
 "metadata": {
  "kernelspec": {
   "display_name": "ee",
   "language": "python",
   "name": "python3"
  },
  "language_info": {
   "codemirror_mode": {
    "name": "ipython",
    "version": 3
   },
   "file_extension": ".py",
   "mimetype": "text/x-python",
   "name": "python",
   "nbconvert_exporter": "python",
   "pygments_lexer": "ipython3",
   "version": "3.12.0"
  }
 },
 "nbformat": 4,
 "nbformat_minor": 2
}
