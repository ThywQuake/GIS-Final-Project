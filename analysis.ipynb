{
 "cells": [
  {
   "cell_type": "code",
   "execution_count": 2,
   "metadata": {},
   "outputs": [],
   "source": [
    "import pickle\n",
    "import numpy as np\n",
    "from scipy.signal import correlate\n",
    "from joblib import Parallel, delayed"
   ]
  },
  {
   "cell_type": "code",
   "execution_count": 3,
   "metadata": {},
   "outputs": [],
   "source": [
    "# 定义读取数据的函数\n",
    "def load_data(pickle_file):\n",
    "    with open(pickle_file, 'rb') as file:\n",
    "        return pickle.load(file)\n",
    "\n",
    "# 定义计算互相关的函数\n",
    "def calculate_correlation(cloud_series, precip_series, pollution_series):\n",
    "    # 计算互相关\n",
    "    corr_cloud_precip = correlate(cloud_series, precip_series, mode='full')\n",
    "    corr_cloud_pollution = correlate(cloud_series, pollution_series, mode='full')\n",
    "    corr_precip_pollution = correlate(precip_series, pollution_series, mode='full')\n",
    "\n",
    "    # 找到最大相关系数及其索引\n",
    "    max_corr_cloud_precip, idx_cloud_precip = max((val, idx) for (idx, val) in enumerate(np.abs(corr_cloud_precip)))\n",
    "    max_corr_cloud_pollution, idx_cloud_pollution = max((val, idx) for (idx, val) in enumerate(np.abs(corr_cloud_pollution)))\n",
    "    max_corr_precip_pollution, idx_precip_pollution = max((val, idx) for (idx, val) in enumerate(np.abs(corr_precip_pollution)))\n",
    "\n",
    "    # 计算对应的时间延迟\n",
    "    lag_cloud_precip = idx_cloud_precip - (len(cloud_series) - 1)\n",
    "    lag_cloud_pollution = idx_cloud_pollution - (len(cloud_series) - 1)\n",
    "    lag_precip_pollution = idx_precip_pollution - (len(precip_series) - 1)\n",
    "\n",
    "    return max_corr_cloud_precip, lag_cloud_precip, max_corr_cloud_pollution, lag_cloud_pollution, max_corr_precip_pollution, lag_precip_pollution\n",
    "\n",
    "\n",
    "# 定义处理单个像素的函数\n",
    "def process_pixel(i, j, clouds, precipitation, pollution):\n",
    "    cloud_series = clouds[:, i, j]\n",
    "    precip_series = precipitation[:, i, j]\n",
    "    pollution_series = pollution[:, i, j]\n",
    "    return calculate_correlation(cloud_series, precip_series, pollution_series)\n"
   ]
  },
  {
   "cell_type": "code",
   "execution_count": 4,
   "metadata": {},
   "outputs": [
    {
     "name": "stdout",
     "output_type": "stream",
     "text": [
      "(48, 1118, 1372) (48, 1118, 1372) (48, 1118, 1372)\n",
      "Loading data finished.\n",
      "height: 1118, width: 1372\n",
      "Start processing...\n"
     ]
    }
   ],
   "source": [
    "# 加载数据\n",
    "data = load_data('data.pkl')\n",
    "clouds, precipitation, pollution = data\n",
    "print(clouds.shape, precipitation.shape, pollution.shape)\n",
    "print('Loading data finished.')\n",
    "# 获取尺寸\n",
    "height, width = clouds.shape[1], clouds.shape[2]\n",
    "print('height: {}, width: {}'.format(height, width))\n",
    "print('Start processing...')\n"
   ]
  },
  {
   "cell_type": "code",
   "execution_count": null,
   "metadata": {},
   "outputs": [],
   "source": [
    "\n",
    "# 并行处理\n",
    "results = Parallel(n_jobs=-1, verbose=10)(\n",
    "    delayed(process_pixel)(i, j, clouds, precipitation, pollution) for i in range(height) for j in range(width)\n",
    ")\n",
    "print('Processing finished.')\n",
    "# 重塑结果\n",
    "max_corr_cloud_precip = np.array([result[0] for result in results]).reshape(height, width)\n",
    "lag_cloud_precip = np.array([result[1] for result in results]).reshape(height, width)\n",
    "max_corr_cloud_pollution = np.array([result[2] for result in results]).reshape(height, width)\n",
    "lag_cloud_pollution = np.array([result[3] for result in results]).reshape(height, width)\n",
    "max_corr_precip_pollution = np.array([result[4] for result in results]).reshape(height, width)\n",
    "lag_precip_pollution = np.array([result[5] for result in results]).reshape(height, width)\n",
    "\n",
    "print('Saving results...')\n"
   ]
  },
  {
   "cell_type": "code",
   "execution_count": 5,
   "metadata": {},
   "outputs": [],
   "source": [
    "import rasterio\n",
    "\n",
    "# 打开原始文件以获取空间信息\n",
    "with rasterio.open('./clouds/monthly_mean_2019_1.tif') as src:\n",
    "    transform = src.transform\n",
    "    crs = src.crs\n"
   ]
  },
  {
   "cell_type": "code",
   "execution_count": 6,
   "metadata": {},
   "outputs": [],
   "source": [
    "def save_raster(data, filename, transform, crs):\n",
    "    with rasterio.open(\n",
    "        filename,\n",
    "        'w',\n",
    "        driver='GTiff',\n",
    "        height=data.shape[0],\n",
    "        width=data.shape[1],\n",
    "        count=1,\n",
    "        dtype=data.dtype,\n",
    "        crs=crs,\n",
    "        transform=transform,\n",
    "    ) as dst:\n",
    "        dst.write(data, 1)\n"
   ]
  },
  {
   "cell_type": "code",
   "execution_count": null,
   "metadata": {},
   "outputs": [],
   "source": [
    "\n",
    "# 保存相关系数和时间延迟为 TIFF 文件\n",
    "save_raster(max_corr_cloud_precip, 'max_corr_cloud_precip.tif', transform, crs)\n",
    "save_raster(lag_cloud_precip, 'lag_cloud_precip.tif', transform, crs)\n",
    "save_raster(max_corr_cloud_pollution, 'max_corr_cloud_pollution.tif', transform, crs)\n",
    "save_raster(lag_cloud_pollution, 'lag_cloud_pollution.tif', transform, crs)\n",
    "save_raster(max_corr_precip_pollution, 'max_corr_precip_pollution.tif', transform, crs)\n",
    "save_raster(lag_precip_pollution, 'lag_precip_pollution.tif', transform, crs)\n",
    "\n",
    "print('All done.')\n"
   ]
  },
  {
   "cell_type": "code",
   "execution_count": 3,
   "metadata": {},
   "outputs": [
    {
     "name": "stdout",
     "output_type": "stream",
     "text": [
      "(48, 1118, 1372) (48, 1118, 1372) (48, 1118, 1372)\n",
      "Loading data finished.\n",
      "height: 1118, width: 1372\n",
      "Start processing...\n"
     ]
    }
   ],
   "source": [
    "# 加载数据_norm\n",
    "data = load_data('data_norm.pkl')\n",
    "cloud_norm, precip_norm, pollution_norm = data\n",
    "print(cloud_norm.shape, precip_norm.shape, pollution_norm.shape)\n",
    "print('Loading data finished.')\n",
    "# 获取尺寸\n",
    "height, width = cloud_norm.shape[1], cloud_norm.shape[2]\n",
    "print('height: {}, width: {}'.format(height, width))\n",
    "print('Start processing...')\n"
   ]
  },
  {
   "cell_type": "code",
   "execution_count": 4,
   "metadata": {},
   "outputs": [
    {
     "name": "stderr",
     "output_type": "stream",
     "text": [
      "[Parallel(n_jobs=-1)]: Using backend LokyBackend with 12 concurrent workers.\n",
      "[Parallel(n_jobs=-1)]: Done   1 tasks      | elapsed:    3.8s\n",
      "[Parallel(n_jobs=-1)]: Done   8 tasks      | elapsed:    3.9s\n",
      "[Parallel(n_jobs=-1)]: Done  17 tasks      | elapsed:    3.9s\n",
      "[Parallel(n_jobs=-1)]: Done  26 tasks      | elapsed:    4.0s\n",
      "[Parallel(n_jobs=-1)]: Done  37 tasks      | elapsed:    4.0s\n",
      "[Parallel(n_jobs=-1)]: Done  48 tasks      | elapsed:    4.1s\n",
      "[Parallel(n_jobs=-1)]: Batch computation too fast (0.18578011871323719s.) Setting batch_size=2.\n",
      "[Parallel(n_jobs=-1)]: Done  61 tasks      | elapsed:    4.1s\n",
      "[Parallel(n_jobs=-1)]: Done  74 tasks      | elapsed:    4.1s\n",
      "[Parallel(n_jobs=-1)]: Batch computation too fast (0.07973694801330566s.) Setting batch_size=4.\n",
      "[Parallel(n_jobs=-1)]: Done  94 tasks      | elapsed:    4.2s\n",
      "[Parallel(n_jobs=-1)]: Done 124 tasks      | elapsed:    4.2s\n",
      "[Parallel(n_jobs=-1)]: Batch computation too fast (0.07071852684020996s.) Setting batch_size=8.\n",
      "[Parallel(n_jobs=-1)]: Done 184 tasks      | elapsed:    4.3s\n",
      "[Parallel(n_jobs=-1)]: Batch computation too fast (0.07685470581054688s.) Setting batch_size=16.\n",
      "[Parallel(n_jobs=-1)]: Done 276 tasks      | elapsed:    4.3s\n",
      "[Parallel(n_jobs=-1)]: Done 436 tasks      | elapsed:    4.4s\n",
      "[Parallel(n_jobs=-1)]: Batch computation too fast (0.10102200508117676s.) Setting batch_size=32.\n",
      "[Parallel(n_jobs=-1)]: Done 740 tasks      | elapsed:    4.5s\n",
      "[Parallel(n_jobs=-1)]: Batch computation too fast (0.07626962661743164s.) Setting batch_size=64.\n",
      "[Parallel(n_jobs=-1)]: Done 1348 tasks      | elapsed:    4.6s\n",
      "[Parallel(n_jobs=-1)]: Batch computation too fast (0.09418272972106934s.) Setting batch_size=128.\n",
      "[Parallel(n_jobs=-1)]: Done 2468 tasks      | elapsed:    4.7s\n",
      "[Parallel(n_jobs=-1)]: Batch computation too fast (0.11594510078430176s.) Setting batch_size=256.\n",
      "[Parallel(n_jobs=-1)]: Done 4772 tasks      | elapsed:    4.8s\n",
      "[Parallel(n_jobs=-1)]: Done 9252 tasks      | elapsed:    5.1s\n",
      "[Parallel(n_jobs=-1)]: Done 15652 tasks      | elapsed:    5.3s\n",
      "[Parallel(n_jobs=-1)]: Done 22052 tasks      | elapsed:    5.6s\n",
      "[Parallel(n_jobs=-1)]: Done 28964 tasks      | elapsed:    5.8s\n",
      "[Parallel(n_jobs=-1)]: Done 35876 tasks      | elapsed:    6.1s\n",
      "[Parallel(n_jobs=-1)]: Done 43300 tasks      | elapsed:    6.4s\n",
      "[Parallel(n_jobs=-1)]: Done 50724 tasks      | elapsed:    6.7s\n",
      "[Parallel(n_jobs=-1)]: Done 58660 tasks      | elapsed:    7.0s\n",
      "[Parallel(n_jobs=-1)]: Done 66596 tasks      | elapsed:    7.3s\n",
      "[Parallel(n_jobs=-1)]: Done 75044 tasks      | elapsed:    7.7s\n",
      "[Parallel(n_jobs=-1)]: Done 83492 tasks      | elapsed:    8.0s\n",
      "[Parallel(n_jobs=-1)]: Done 92452 tasks      | elapsed:    8.3s\n",
      "[Parallel(n_jobs=-1)]: Done 101412 tasks      | elapsed:    8.7s\n",
      "[Parallel(n_jobs=-1)]: Done 110884 tasks      | elapsed:    9.1s\n",
      "[Parallel(n_jobs=-1)]: Done 120356 tasks      | elapsed:    9.4s\n",
      "[Parallel(n_jobs=-1)]: Done 130340 tasks      | elapsed:    9.8s\n",
      "[Parallel(n_jobs=-1)]: Done 140324 tasks      | elapsed:   10.3s\n",
      "[Parallel(n_jobs=-1)]: Done 150820 tasks      | elapsed:   10.7s\n",
      "[Parallel(n_jobs=-1)]: Done 161316 tasks      | elapsed:   11.1s\n",
      "[Parallel(n_jobs=-1)]: Done 172324 tasks      | elapsed:   11.6s\n",
      "[Parallel(n_jobs=-1)]: Done 183332 tasks      | elapsed:   12.0s\n",
      "[Parallel(n_jobs=-1)]: Done 194852 tasks      | elapsed:   12.5s\n",
      "[Parallel(n_jobs=-1)]: Done 206372 tasks      | elapsed:   12.9s\n",
      "[Parallel(n_jobs=-1)]: Done 218404 tasks      | elapsed:   13.4s\n",
      "[Parallel(n_jobs=-1)]: Done 230436 tasks      | elapsed:   13.9s\n",
      "[Parallel(n_jobs=-1)]: Done 242980 tasks      | elapsed:   14.3s\n",
      "[Parallel(n_jobs=-1)]: Done 255524 tasks      | elapsed:   14.8s\n",
      "[Parallel(n_jobs=-1)]: Done 268580 tasks      | elapsed:   15.4s\n",
      "[Parallel(n_jobs=-1)]: Done 281636 tasks      | elapsed:   15.9s\n",
      "[Parallel(n_jobs=-1)]: Done 295204 tasks      | elapsed:   16.4s\n",
      "[Parallel(n_jobs=-1)]: Done 308772 tasks      | elapsed:   16.9s\n",
      "[Parallel(n_jobs=-1)]: Done 322852 tasks      | elapsed:   17.5s\n",
      "[Parallel(n_jobs=-1)]: Done 336932 tasks      | elapsed:   18.0s\n",
      "[Parallel(n_jobs=-1)]: Done 351524 tasks      | elapsed:   18.6s\n",
      "[Parallel(n_jobs=-1)]: Done 366116 tasks      | elapsed:   19.2s\n",
      "[Parallel(n_jobs=-1)]: Done 381220 tasks      | elapsed:   19.7s\n",
      "[Parallel(n_jobs=-1)]: Done 396324 tasks      | elapsed:   20.3s\n",
      "[Parallel(n_jobs=-1)]: Done 411940 tasks      | elapsed:   20.9s\n",
      "[Parallel(n_jobs=-1)]: Done 427556 tasks      | elapsed:   21.5s\n",
      "[Parallel(n_jobs=-1)]: Done 443684 tasks      | elapsed:   22.1s\n",
      "[Parallel(n_jobs=-1)]: Done 459812 tasks      | elapsed:   22.8s\n",
      "[Parallel(n_jobs=-1)]: Done 476452 tasks      | elapsed:   23.5s\n",
      "[Parallel(n_jobs=-1)]: Done 493092 tasks      | elapsed:   24.4s\n",
      "[Parallel(n_jobs=-1)]: Done 510244 tasks      | elapsed:   25.1s\n",
      "[Parallel(n_jobs=-1)]: Done 527396 tasks      | elapsed:   25.8s\n",
      "[Parallel(n_jobs=-1)]: Done 545060 tasks      | elapsed:   26.6s\n",
      "[Parallel(n_jobs=-1)]: Done 562724 tasks      | elapsed:   27.3s\n",
      "[Parallel(n_jobs=-1)]: Done 580900 tasks      | elapsed:   28.0s\n",
      "[Parallel(n_jobs=-1)]: Done 599076 tasks      | elapsed:   28.7s\n",
      "[Parallel(n_jobs=-1)]: Done 617764 tasks      | elapsed:   29.5s\n",
      "[Parallel(n_jobs=-1)]: Done 636452 tasks      | elapsed:   30.3s\n",
      "[Parallel(n_jobs=-1)]: Done 655652 tasks      | elapsed:   31.1s\n",
      "[Parallel(n_jobs=-1)]: Done 674852 tasks      | elapsed:   31.9s\n",
      "[Parallel(n_jobs=-1)]: Done 694564 tasks      | elapsed:   32.6s\n",
      "[Parallel(n_jobs=-1)]: Done 714276 tasks      | elapsed:   33.4s\n",
      "[Parallel(n_jobs=-1)]: Done 734500 tasks      | elapsed:   34.3s\n",
      "[Parallel(n_jobs=-1)]: Done 754724 tasks      | elapsed:   35.0s\n",
      "[Parallel(n_jobs=-1)]: Done 775460 tasks      | elapsed:   35.9s\n",
      "[Parallel(n_jobs=-1)]: Done 796196 tasks      | elapsed:   36.8s\n",
      "[Parallel(n_jobs=-1)]: Done 817444 tasks      | elapsed:   37.6s\n",
      "[Parallel(n_jobs=-1)]: Done 838692 tasks      | elapsed:   38.5s\n",
      "[Parallel(n_jobs=-1)]: Done 860452 tasks      | elapsed:   39.4s\n",
      "[Parallel(n_jobs=-1)]: Done 882212 tasks      | elapsed:   40.3s\n",
      "[Parallel(n_jobs=-1)]: Done 904484 tasks      | elapsed:   41.2s\n",
      "[Parallel(n_jobs=-1)]: Done 926756 tasks      | elapsed:   42.1s\n",
      "[Parallel(n_jobs=-1)]: Done 949540 tasks      | elapsed:   43.0s\n",
      "[Parallel(n_jobs=-1)]: Done 972324 tasks      | elapsed:   44.0s\n",
      "[Parallel(n_jobs=-1)]: Done 995620 tasks      | elapsed:   44.9s\n",
      "[Parallel(n_jobs=-1)]: Done 1018916 tasks      | elapsed:   46.0s\n",
      "[Parallel(n_jobs=-1)]: Done 1042724 tasks      | elapsed:   47.0s\n",
      "[Parallel(n_jobs=-1)]: Done 1066532 tasks      | elapsed:   47.9s\n",
      "[Parallel(n_jobs=-1)]: Done 1090852 tasks      | elapsed:   48.9s\n",
      "[Parallel(n_jobs=-1)]: Done 1115172 tasks      | elapsed:   49.9s\n",
      "[Parallel(n_jobs=-1)]: Done 1140004 tasks      | elapsed:   51.0s\n",
      "[Parallel(n_jobs=-1)]: Done 1164836 tasks      | elapsed:   52.0s\n",
      "[Parallel(n_jobs=-1)]: Done 1190180 tasks      | elapsed:   53.0s\n",
      "[Parallel(n_jobs=-1)]: Done 1215524 tasks      | elapsed:   54.0s\n",
      "[Parallel(n_jobs=-1)]: Done 1241380 tasks      | elapsed:   55.1s\n",
      "[Parallel(n_jobs=-1)]: Done 1267236 tasks      | elapsed:   56.0s\n",
      "[Parallel(n_jobs=-1)]: Done 1293604 tasks      | elapsed:   57.1s\n",
      "[Parallel(n_jobs=-1)]: Done 1319972 tasks      | elapsed:   58.1s\n",
      "[Parallel(n_jobs=-1)]: Done 1346852 tasks      | elapsed:   59.2s\n",
      "[Parallel(n_jobs=-1)]: Done 1373732 tasks      | elapsed:  1.0min\n",
      "[Parallel(n_jobs=-1)]: Done 1401124 tasks      | elapsed:  1.0min\n",
      "[Parallel(n_jobs=-1)]: Done 1428516 tasks      | elapsed:  1.0min\n",
      "[Parallel(n_jobs=-1)]: Done 1456420 tasks      | elapsed:  1.1min\n",
      "[Parallel(n_jobs=-1)]: Done 1484324 tasks      | elapsed:  1.1min\n",
      "[Parallel(n_jobs=-1)]: Done 1512740 tasks      | elapsed:  1.1min\n",
      "[Parallel(n_jobs=-1)]: Done 1533188 tasks      | elapsed:  1.1min\n"
     ]
    },
    {
     "name": "stdout",
     "output_type": "stream",
     "text": [
      "Processing finished.\n"
     ]
    },
    {
     "name": "stderr",
     "output_type": "stream",
     "text": [
      "[Parallel(n_jobs=-1)]: Done 1533896 out of 1533896 | elapsed:  1.1min finished\n"
     ]
    }
   ],
   "source": [
    "# 并行处理\n",
    "results = Parallel(n_jobs=-1, verbose=10)(\n",
    "    delayed(process_pixel)(i, j, cloud_norm, precip_norm, pollution_norm) for i in range(height) for j in range(width)\n",
    ")\n",
    "print('Processing finished.')"
   ]
  },
  {
   "cell_type": "code",
   "execution_count": 7,
   "metadata": {},
   "outputs": [],
   "source": [
    "# 重塑结果\n",
    "max_corr_cloud_precip_norm = np.array([result[0] for result in results]).reshape(height, width)\n",
    "lag_cloud_precip_norm = np.array([result[1] for result in results]).reshape(height, width)\n",
    "max_corr_cloud_pollution_norm = np.array([result[2] for result in results]).reshape(height, width)\n",
    "lag_cloud_pollution_norm = np.array([result[3] for result in results]).reshape(height, width)\n",
    "max_corr_precip_pollution_norm = np.array([result[4] for result in results]).reshape(height, width)\n",
    "lag_precip_pollution_norm = np.array([result[5] for result in results]).reshape(height, width)"
   ]
  },
  {
   "cell_type": "code",
   "execution_count": 8,
   "metadata": {},
   "outputs": [
    {
     "name": "stdout",
     "output_type": "stream",
     "text": [
      "All done.\n"
     ]
    }
   ],
   "source": [
    "# 保存相关系数和时间延迟为 TIFF 文件\n",
    "save_raster(max_corr_cloud_precip_norm, './norm/max_corr_cloud_precip_norm.tif', transform, crs)\n",
    "save_raster(lag_cloud_precip_norm, './norm/lag_cloud_precip_norm.tif', transform, crs)\n",
    "save_raster(max_corr_cloud_pollution_norm, './norm/max_corr_cloud_pollution_norm.tif', transform, crs)\n",
    "save_raster(lag_cloud_pollution_norm, './norm/lag_cloud_pollution_norm.tif', transform, crs)\n",
    "save_raster(max_corr_precip_pollution_norm, './norm/max_corr_precip_pollution_norm.tif', transform, crs)\n",
    "save_raster(lag_precip_pollution_norm, './norm/lag_precip_pollution_norm.tif', transform, crs)\n",
    "\n",
    "print('All done.')"
   ]
  },
  {
   "cell_type": "code",
   "execution_count": 17,
   "metadata": {},
   "outputs": [
    {
     "name": "stdout",
     "output_type": "stream",
     "text": [
      "Time cost: 0.0011782646179199219 seconds.\n",
      "30.122256406148274\n"
     ]
    }
   ],
   "source": [
    "import time\n",
    "\n",
    "t1 = time.time()\n",
    "process_pixel(0, 0, clouds, precipitation, pollution)\n",
    "t2 = time.time()\n",
    "\n",
    "print('Time cost: {} seconds.'.format(t2 - t1))\n",
    "print((t2-t1)*height*width/60)"
   ]
  }
 ],
 "metadata": {
  "kernelspec": {
   "display_name": "gis",
   "language": "python",
   "name": "python3"
  },
  "language_info": {
   "codemirror_mode": {
    "name": "ipython",
    "version": 3
   },
   "file_extension": ".py",
   "mimetype": "text/x-python",
   "name": "python",
   "nbconvert_exporter": "python",
   "pygments_lexer": "ipython3",
   "version": "3.10.13"
  }
 },
 "nbformat": 4,
 "nbformat_minor": 2
}
