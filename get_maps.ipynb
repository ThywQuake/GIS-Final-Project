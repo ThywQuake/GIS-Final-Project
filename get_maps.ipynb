{
 "cells": [
  {
   "cell_type": "markdown",
   "metadata": {},
   "source": [
    "需要养成写注释的好习惯, 所以强制要求自己在每个Cell之前必须要有一个Markdown单元格简述内容\n",
    "\n",
    "对, 同时要打开\"中文模式英文标点\"防止高血压操作\n",
    "\n",
    "接下来的cell是简单的依赖库的导入\n",
    "\n",
    "注意, 刚刚了解到ee.Initialize()的令牌是只有一周的有效期的, 这也意味着需要一周进行一次Authenticate"
   ]
  },
  {
   "cell_type": "code",
   "execution_count": 9,
   "metadata": {},
   "outputs": [],
   "source": [
    "import ee\n",
    "from ee_jupyter.ipyleaflet import Map\n",
    "import ipyleaflet as ipyl\n",
    "import pandas as pd\n",
    "import numpy as np\n",
    "import matplotlib.pyplot as plt\n",
    "\n",
    "print(\"Authenticating using Notebook auth...\")\n",
    "if os.path.exists(ee.oauth.get_credentials_path()) is False:\n",
    "    ee.Authenticate()\n",
    "else:\n",
    "    print('\\N{check mark} '\n",
    "            'Previously created authentication credentials were found.')\n",
    "    ee.Initialize()"
   ]
  },
  {
   "cell_type": "markdown",
   "metadata": {},
   "source": [
    "接下来是导入Landsat8的影像,在GEE上创建了一个polygon, \n",
    "\n",
    "将这个polygon的JSON复制下来, 创建了aoi对象"
   ]
  },
  {
   "cell_type": "code",
   "execution_count": 28,
   "metadata": {},
   "outputs": [
    {
     "data": {
      "text/plain": [
       "{'type': 'Polygon',\n",
       " 'coordinates': [[[89.92270815646162, 26.012618981109068],\n",
       "   [118.92661440646168, 26.012618981109068],\n",
       "   [118.92661440646168, 42.468256766486284],\n",
       "   [89.92270815646162, 42.468256766486284],\n",
       "   [89.92270815646162, 26.012618981109068]]]}"
      ]
     },
     "execution_count": 28,
     "metadata": {},
     "output_type": "execute_result"
    }
   ],
   "source": [
    "ls8=ee.ImageCollection(\"LANDSAT/LC08/C02/T1_RT\")\n",
    "aoi=ee.Geometry({\n",
    "  \"type\": \"Polygon\",\n",
    "  \"coordinates\": [\n",
    "    [\n",
    "      [\n",
    "        89.92270815646162,\n",
    "        26.012618981109068\n",
    "      ],\n",
    "      [\n",
    "        118.92661440646168,\n",
    "        26.012618981109068\n",
    "      ],\n",
    "      [\n",
    "        118.92661440646168,\n",
    "        42.468256766486284\n",
    "      ],\n",
    "      [\n",
    "        89.92270815646162,\n",
    "        42.468256766486284\n",
    "      ],\n",
    "      [\n",
    "        89.92270815646162,\n",
    "        26.012618981109068\n",
    "      ]\n",
    "    ]\n",
    "  ]\n",
    "})\n",
    "\n",
    "aoi.getInfo()"
   ]
  },
  {
   "cell_type": "markdown",
   "metadata": {},
   "source": [
    "通过读取Band信息可以知道:\n",
    "\n",
    "Band: QA_PIXEL:\n",
    "\n",
    "- Bit 0: Fill\n",
    "    - 0: Image data\n",
    "    - 1: Fill data\n",
    "- Bit 1: Dilated Cloud\n",
    "    - 0: Cloud is not dilated or no cloud\n",
    "  - 1: cloud dilation\n",
    "- Bit 2: Unused\n",
    "- Bit 3: Cloud\n",
    "  - 0: Cloud confidence is not high\n",
    "  - 1: High confidence cloud\n",
    "- Bit 4: Cloud Shadow\n",
    "  - 0: Cloud Shadow Confidence is not high\n",
    "  - 1: High confidence cloud shadow\n",
    "- Bit 5: Snow\n",
    "  - 0: Snow/Ice Confidence is not high\n",
    "  - 1: High confidence snow cover\n",
    "- Bit 6: Clear\n",
    "  - 0: Cloud or Dilated Cloud bits are set\n",
    "  - 1: Cloud and Dilated Cloud bits are not set\n",
    "- Bit 7: Water\n",
    "  - 0: Land or cloud\n",
    "  - 1: Water\n",
    "- Bits 8-9: Cloud Confidence\n",
    "  - 0: No confidence level set\n",
    "  - 1: Low confidence\n",
    "  - 2: Medium confidence\n",
    "  - 3: High confidence\n",
    "- Bits 10-11: Cloud Shadow Confidence\n",
    "  - 0: No confidence level set\n",
    "  - 1: Low confidence\n",
    "  - 2: Reserved\n",
    "  - 3: High confidence\n",
    "- Bits 12-13: Snow / Ice Confidence\n",
    "  - 0: No confidence level set\n",
    "  - 1: Low confidence\n",
    "  - 2: Reserved\n",
    "  - 3: High confidence\n",
    "- Bits 14-15: Cirrus Confidence\n",
    "  - 0: No confidence level set\n",
    "  - 1: Low confidence\n",
    "  - 2: Reserved\n",
    "  - 3: High confidence"
   ]
  },
  {
   "cell_type": "code",
   "execution_count": 48,
   "metadata": {},
   "outputs": [
    {
     "data": {
      "text/plain": [
       "{'type': 'Image',\n",
       " 'bands': [{'id': 'QA_PIXEL',\n",
       "   'data_type': {'type': 'PixelType',\n",
       "    'precision': 'int',\n",
       "    'min': 0,\n",
       "    'max': 65535},\n",
       "   'dimensions': [7531, 7681],\n",
       "   'crs': 'EPSG:32650',\n",
       "   'crs_transform': [30, 0, 675285, 0, -30, 3471315]}],\n",
       " 'id': 'LANDSAT/LC08/C02/T1_RT/LC08_119039_20230104',\n",
       " 'version': 1673514163115520.0,\n",
       " 'properties': {'RADIANCE_MULT_BAND_5': 0.0063233,\n",
       "  'RADIANCE_MULT_BAND_6': 0.0015726,\n",
       "  'RADIANCE_MULT_BAND_3': 0.012254,\n",
       "  'RADIANCE_MULT_BAND_4': 0.010333,\n",
       "  'RADIANCE_MULT_BAND_1': 0.012986,\n",
       "  'RADIANCE_MULT_BAND_2': 0.013298,\n",
       "  'WRS_TYPE': 2,\n",
       "  'K2_CONSTANT_BAND_11': 1201.1442,\n",
       "  'K2_CONSTANT_BAND_10': 1321.0789,\n",
       "  'system:footprint': {'type': 'LinearRing',\n",
       "   'coordinates': [[120.7468753601711, 29.32123525722844],\n",
       "    [120.75436074251996, 29.348612033328703],\n",
       "    [120.7860261076601, 29.465769723260998],\n",
       "    [120.83261078888772, 29.638178788879483],\n",
       "    [120.85887716110015, 29.735465316757885],\n",
       "    [120.92299500807505, 29.972495675207192],\n",
       "    [121.03638125179808, 30.38845002193935],\n",
       "    [121.09731320995196, 30.610336570078523],\n",
       "    [121.1900567408848, 30.947307558095385],\n",
       "    [121.19708910520326, 30.972965825011492],\n",
       "    [121.01843372251545, 31.009299582441017],\n",
       "    [119.24873367556795, 31.354603787706044],\n",
       "    [119.13435104883388, 30.90771586678447],\n",
       "    [119.0264478779519, 30.481690792924404],\n",
       "    [118.91958722010449, 30.05550897424786],\n",
       "    [118.8133566642201, 29.62762773704981],\n",
       "    [119.37032518605955, 29.519558652923077],\n",
       "    [120.11066040684007, 29.371988126414436],\n",
       "    [120.70156569995737, 29.250991472796464],\n",
       "    [120.72595167977144, 29.246004366019722],\n",
       "    [120.72660317503183, 29.247552446097394],\n",
       "    [120.7468753601711, 29.32123525722844]]},\n",
       "  'REFLECTIVE_SAMPLES': 7531,\n",
       "  'SUN_AZIMUTH': 154.54278849,\n",
       "  'DATA_SOURCE_TIRS_STRAY_LIGHT_CORRECTION': 'TIRS',\n",
       "  'DATE_ACQUIRED': '2023-01-04',\n",
       "  'ELLIPSOID': 'WGS84',\n",
       "  'STATION_ID': 'LGN',\n",
       "  'RESAMPLING_OPTION': 'CUBIC_CONVOLUTION',\n",
       "  'ORIENTATION': 'NORTH_UP',\n",
       "  'WRS_ROW': 39,\n",
       "  'RADIANCE_MULT_BAND_9': 0.0024713,\n",
       "  'TARGET_WRS_ROW': 39,\n",
       "  'RADIANCE_MULT_BAND_7': 0.00053004,\n",
       "  'RADIANCE_MULT_BAND_8': 0.011694,\n",
       "  'IMAGE_QUALITY_TIRS': 9,\n",
       "  'TRUNCATION_OLI': 'UPPER',\n",
       "  'CLOUD_COVER': 24.9,\n",
       "  'GEOMETRIC_RMSE_VERIFY': 6.245,\n",
       "  'COLLECTION_CATEGORY': 'T1',\n",
       "  'GRID_CELL_SIZE_REFLECTIVE': 30,\n",
       "  'CLOUD_COVER_LAND': 25.55,\n",
       "  'GEOMETRIC_RMSE_MODEL': 7.107,\n",
       "  'COLLECTION_NUMBER': 2,\n",
       "  'IMAGE_QUALITY_OLI': 9,\n",
       "  'LANDSAT_SCENE_ID': 'LC81190392023004LGN00',\n",
       "  'WRS_PATH': 119,\n",
       "  'PANCHROMATIC_SAMPLES': 15061,\n",
       "  'PANCHROMATIC_LINES': 15361,\n",
       "  'GEOMETRIC_RMSE_MODEL_Y': 5.288,\n",
       "  'REFLECTIVE_LINES': 7681,\n",
       "  'GEOMETRIC_RMSE_MODEL_X': 4.748,\n",
       "  'system:asset_size': 1223458396,\n",
       "  'system:index': 'LC08_119039_20230104',\n",
       "  'DATA_SOURCE_ELEVATION': 'GLS2000',\n",
       "  'REFLECTANCE_ADD_BAND_1': -0.1,\n",
       "  'REFLECTANCE_ADD_BAND_2': -0.1,\n",
       "  'DATUM': 'WGS84',\n",
       "  'REFLECTANCE_ADD_BAND_3': -0.1,\n",
       "  'REFLECTANCE_ADD_BAND_4': -0.1,\n",
       "  'REFLECTANCE_ADD_BAND_5': -0.1,\n",
       "  'REFLECTANCE_ADD_BAND_6': -0.1,\n",
       "  'REFLECTANCE_ADD_BAND_7': -0.1,\n",
       "  'REFLECTANCE_ADD_BAND_8': -0.1,\n",
       "  'GROUND_CONTROL_POINTS_VERSION': 5,\n",
       "  'UTM_ZONE': 50,\n",
       "  'system:time_end': 1672799520091,\n",
       "  'LANDSAT_PRODUCT_ID': 'LC08_L1TP_119039_20230104_20230111_02_T1',\n",
       "  'REFLECTANCE_ADD_BAND_9': -0.1,\n",
       "  'GRID_CELL_SIZE_PANCHROMATIC': 15,\n",
       "  'RADIANCE_ADD_BAND_4': -51.6654,\n",
       "  'REFLECTANCE_MULT_BAND_7': 2e-05,\n",
       "  'system:time_start': 1672799520091,\n",
       "  'RADIANCE_ADD_BAND_5': -31.61665,\n",
       "  'REFLECTANCE_MULT_BAND_6': 2e-05,\n",
       "  'RADIANCE_ADD_BAND_6': -7.86277,\n",
       "  'REFLECTANCE_MULT_BAND_9': 2e-05,\n",
       "  'PROCESSING_SOFTWARE_VERSION': 'LPGS_16.1.0',\n",
       "  'RADIANCE_ADD_BAND_7': -2.65018,\n",
       "  'REFLECTANCE_MULT_BAND_8': 2e-05,\n",
       "  'RADIANCE_ADD_BAND_1': -64.92976,\n",
       "  'RADIANCE_ADD_BAND_2': -66.48886,\n",
       "  'RADIANCE_ADD_BAND_3': -61.26892,\n",
       "  'REFLECTANCE_MULT_BAND_1': 2e-05,\n",
       "  'RADIANCE_ADD_BAND_8': -58.47102,\n",
       "  'REFLECTANCE_MULT_BAND_3': 2e-05,\n",
       "  'RADIANCE_ADD_BAND_9': -12.3565,\n",
       "  'REFLECTANCE_MULT_BAND_2': 2e-05,\n",
       "  'REFLECTANCE_MULT_BAND_5': 2e-05,\n",
       "  'REFLECTANCE_MULT_BAND_4': 2e-05,\n",
       "  'THERMAL_LINES': 7681,\n",
       "  'TIRS_SSM_POSITION_STATUS': 'ESTIMATED',\n",
       "  'GRID_CELL_SIZE_THERMAL': 30,\n",
       "  'NADIR_OFFNADIR': 'NADIR',\n",
       "  'RADIANCE_ADD_BAND_11': 0.1,\n",
       "  'REQUEST_ID': '1625103_00015',\n",
       "  'EARTH_SUN_DISTANCE': 0.9832966,\n",
       "  'TIRS_SSM_MODEL': 'FINAL',\n",
       "  'SCENE_CENTER_TIME': '02:32:00.0913210Z',\n",
       "  'SUN_ELEVATION': 32.46057197,\n",
       "  'RADIANCE_ADD_BAND_10': 0.1,\n",
       "  'ROLL_ANGLE': -0.001,\n",
       "  'DATE_PRODUCT_GENERATED': 1673422751000,\n",
       "  'K1_CONSTANT_BAND_10': 774.8853,\n",
       "  'SATURATION_BAND_1': 'N',\n",
       "  'SATURATION_BAND_2': 'N',\n",
       "  'SATURATION_BAND_3': 'Y',\n",
       "  'SATURATION_BAND_4': 'Y',\n",
       "  'SATURATION_BAND_5': 'Y',\n",
       "  'MAP_PROJECTION': 'UTM',\n",
       "  'SATURATION_BAND_6': 'Y',\n",
       "  'SENSOR_ID': 'OLI_TIRS',\n",
       "  'SATURATION_BAND_7': 'Y',\n",
       "  'K1_CONSTANT_BAND_11': 480.8883,\n",
       "  'SATURATION_BAND_8': 'N',\n",
       "  'SATURATION_BAND_9': 'N',\n",
       "  'TARGET_WRS_PATH': 119,\n",
       "  'PROCESSING_LEVEL': 'L1TP',\n",
       "  'RADIANCE_MULT_BAND_11': 0.0003342,\n",
       "  'RADIANCE_MULT_BAND_10': 0.0003342,\n",
       "  'GROUND_CONTROL_POINTS_MODEL': 376,\n",
       "  'SPACECRAFT_ID': 'LANDSAT_8',\n",
       "  'THERMAL_SAMPLES': 7531,\n",
       "  'GROUND_CONTROL_POINTS_VERIFY': 51}}"
      ]
     },
     "execution_count": 48,
     "metadata": {},
     "output_type": "execute_result"
    }
   ],
   "source": [
    "image=ls8.filterBounds(aoi).filterDate('2023-01-01','2023-02-01').first()\n",
    "qa_pixel=image.select('QA_PIXEL')\n",
    "\n",
    "qa_pixel.getInfo()"
   ]
  },
  {
   "cell_type": "markdown",
   "metadata": {},
   "source": [
    "可视化一下看看"
   ]
  },
  {
   "cell_type": "code",
   "execution_count": 49,
   "metadata": {},
   "outputs": [
    {
     "data": {
      "text/html": [
       "<img src=\"https://earthengine.googleapis.com/v1/projects/earthengine-legacy/thumbnails/5c716f803343c793bd72cb676c5ff727-9c24fc2d54e5d48298e740dfe34a1256:getPixels\"/>"
      ],
      "text/plain": [
       "<IPython.core.display.Image object>"
      ]
     },
     "execution_count": 49,
     "metadata": {},
     "output_type": "execute_result"
    }
   ],
   "source": [
    "from IPython.display import Image\n",
    "\n",
    "url=qa_pixel.getThumbUrl({\n",
    "    'min':0,\n",
    "    'max':1,\n",
    "    'palette':'000000,FF0000,00FF00,0000FF',\n",
    "    'region':aoi,\n",
    "    'dimensions':'512'\n",
    "})\n",
    "\n",
    "Image(url=url)"
   ]
  },
  {
   "cell_type": "markdown",
   "metadata": {},
   "source": [
    "有点奇怪,通过ipyleaflet看看到底是怎么回事"
   ]
  },
  {
   "cell_type": "code",
   "execution_count": 50,
   "metadata": {},
   "outputs": [
    {
     "data": {
      "application/vnd.jupyter.widget-view+json": {
       "model_id": "0af0cdd3a5f04d0da9e6476f6db49fc5",
       "version_major": 2,
       "version_minor": 0
      },
      "text/plain": [
       "Map(center=[35, 110], controls=(ZoomControl(options=['position', 'zoom_in_text', 'zoom_in_title', 'zoom_out_te…"
      ]
     },
     "execution_count": 50,
     "metadata": {},
     "output_type": "execute_result"
    }
   ],
   "source": [
    "def display(image,map,  name, centered=False):\n",
    "    bns = image.bandNames().length().getInfo()\n",
    "    if bns == 3:\n",
    "        image = image.rename('B1', 'B2', 'B3')\n",
    "        pb_99 = ['B1_p99', 'B2_p99', 'B3_p99']\n",
    "        pb_1 = ['B1_p1', 'B2_p1', 'B3_p1']\n",
    "        img = ee.Image.rgb(image.select('B1'), image.select('B2'), image.select('B3'))\n",
    "    else:\n",
    "        image = image.rename('B1')\n",
    "        pb_99 = ['B1_p99']\n",
    "        pb_1 = ['B1_p1']\n",
    "        img = image.select('B1')\n",
    "    percentiles = image.reduceRegion(ee.Reducer.percentile([1, 99]), maxPixels=1e11)\n",
    "    mx = percentiles.values(pb_99)\n",
    "    if centered:\n",
    "        mn = ee.Array(mx).multiply(-1).toList()\n",
    "    else:\n",
    "        mn = percentiles.values(pb_1)\n",
    "    map.addLayer(img, {'min': mn, 'max': mx}, name)\n",
    "\n",
    "map1=Map(center=[35, 110], zoom=4,basemap=ipyl.basemaps.Esri.WorldImagery)\n",
    "display(qa_pixel, map1, 'image')\n",
    "map1\n"
   ]
  },
  {
   "cell_type": "markdown",
   "metadata": {},
   "source": [
    "之前计算aoi的中心点出现了一些报错,下面是一些实验性质的代码"
   ]
  },
  {
   "cell_type": "code",
   "execution_count": 29,
   "metadata": {},
   "outputs": [
    {
     "name": "stdout",
     "output_type": "stream",
     "text": [
      "质心坐标: [104.42466128146167, 34.80447663804673]\n"
     ]
    }
   ],
   "source": [
    "polygon = aoi\n",
    "\n",
    "# 计算多边形的质心\n",
    "centroid = polygon.centroid()\n",
    "\n",
    "# 获取质心的坐标\n",
    "coordinates = centroid.coordinates()\n",
    "\n",
    "# 打印坐标\n",
    "print('质心坐标:', coordinates.getInfo())"
   ]
  },
  {
   "cell_type": "markdown",
   "metadata": {},
   "source": [
    "真的是越看越奇怪啊\n",
    "\n",
    "让我把数据导出来试试"
   ]
  },
  {
   "cell_type": "code",
   "execution_count": 57,
   "metadata": {},
   "outputs": [],
   "source": [
    "data = qa_pixel.reduceRegion(\n",
    "    reducer=ee.Reducer.toList(),\n",
    "    geometry=aoi,\n",
    "    scale=100,\n",
    "    maxPixels=1e11\n",
    ")\n",
    "\n",
    "# 创建一个导出任务\n",
    "task = ee.batch.Export.table.toDrive(\n",
    "    collection=ee.FeatureCollection([ee.Feature(None, {'data': data.get('QA_PIXEL')})]),\n",
    "    description='exportBandData',\n",
    "    fileFormat='CSV'\n",
    ")\n",
    "\n",
    "# 开始执行导出任务\n",
    "task.start()\n"
   ]
  },
  {
   "cell_type": "markdown",
   "metadata": {},
   "source": [
    "通过time模块监视task进程"
   ]
  },
  {
   "cell_type": "code",
   "execution_count": 58,
   "metadata": {},
   "outputs": [
    {
     "name": "stdout",
     "output_type": "stream",
     "text": [
      "{'state': 'READY', 'description': 'exportBandData', 'creation_timestamp_ms': 1703175573632, 'update_timestamp_ms': 1703175573632, 'start_timestamp_ms': 0, 'task_type': 'EXPORT_FEATURES', 'id': 'G37G5U6H4PWDPYJKXRJD67ES', 'name': 'projects/earthengine-legacy/operations/G37G5U6H4PWDPYJKXRJD67ES'}\n"
     ]
    },
    {
     "data": {
      "text/plain": [
       "{'state': 'COMPLETED',\n",
       " 'description': 'exportBandData',\n",
       " 'creation_timestamp_ms': 1703175573632,\n",
       " 'update_timestamp_ms': 1703175578575,\n",
       " 'start_timestamp_ms': 1703175577037,\n",
       " 'task_type': 'EXPORT_FEATURES',\n",
       " 'destination_uris': ['https://drive.google.com/'],\n",
       " 'attempt': 1,\n",
       " 'batch_eecu_usage_seconds': 0.11607155203819275,\n",
       " 'id': 'G37G5U6H4PWDPYJKXRJD67ES',\n",
       " 'name': 'projects/earthengine-legacy/operations/G37G5U6H4PWDPYJKXRJD67ES'}"
      ]
     },
     "execution_count": 58,
     "metadata": {},
     "output_type": "execute_result"
    }
   ],
   "source": [
    "import time\n",
    "\n",
    "while task.active():\n",
    "    status = task.status()\n",
    "    print(status)\n",
    "\n",
    "    # 等待一段时间后再次检查状态\n",
    "    time.sleep(5)\n",
    "\n",
    "task.status()\n"
   ]
  },
  {
   "cell_type": "markdown",
   "metadata": {},
   "source": [
    "得到的结果真的很奇怪, 几乎空白的表格...\n",
    "\n",
    "有点绝望\n",
    "\n",
    "问问GPT, 换个路子试试"
   ]
  },
  {
   "cell_type": "code",
   "execution_count": 68,
   "metadata": {},
   "outputs": [
    {
     "name": "stdout",
     "output_type": "stream",
     "text": [
      "{'cloud': 56}\n",
      "该点在指定月份内的 Landsat 8 图像数量: 2\n"
     ]
    }
   ],
   "source": [
    "# 定义时间范围和位置\n",
    "startDate = '2023-01-01'\n",
    "endDate = '2023-02-01'\n",
    "point = centroid\n",
    "\n",
    "# 加载 Landsat 8 图像集\n",
    "l8 = ee.ImageCollection(\"LANDSAT/LC08/C02/T1_TOA\") \\\n",
    "    .filterDate(startDate, endDate) \\\n",
    "    .filterBounds(point)\n",
    "\n",
    "# 选择一个图像\n",
    "image = l8.first()  # 或者使用其他方法选择特定图像\n",
    "\n",
    "# 定义一个函数来计算每个图像的 CloudScore\n",
    "def addCloudScore(image):\n",
    "    cloudScore = ee.Algorithms.Landsat.simpleCloudScore(image).select('cloud')\n",
    "    return image.addBands(cloudScore)\n",
    "\n",
    "# 将云掩膜算法应用于图像集合\n",
    "withCloudScores = l8.map(addCloudScore)\n",
    "\n",
    "# 计算平均 CloudScore\n",
    "meanCloudScore = withCloudScores.select('cloud').mean()\n",
    "\n",
    "# 提取指定位置的平均 CloudScore\n",
    "averageCloudInfo = meanCloudScore.reduceRegion(\n",
    "    reducer=ee.Reducer.first(),\n",
    "    geometry=point,\n",
    "    scale=30\n",
    ")\n",
    "\n",
    "# 输出平均 CloudScore\n",
    "print(averageCloudInfo.getInfo())\n",
    "\n",
    "# 计算图像集合中的图像数量\n",
    "imageCount = l8.size()\n",
    "\n",
    "# 输出图像数量\n",
    "print('该点在指定月份内的 Landsat 8 图像数量:', imageCount.getInfo())"
   ]
  },
  {
   "cell_type": "markdown",
   "metadata": {},
   "source": [
    "先浅浅放下Landsat8,让我们看看从GPT4中问到的更好的产品之一:MODIS AQUA的产品\n",
    "\n",
    "ee.ImageCollection(\"MODIS/061/MYD08_M3\")"
   ]
  },
  {
   "cell_type": "markdown",
   "metadata": {},
   "source": []
  }
 ],
 "metadata": {
  "kernelspec": {
   "display_name": "ee",
   "language": "python",
   "name": "python3"
  },
  "language_info": {
   "codemirror_mode": {
    "name": "ipython",
    "version": 3
   },
   "file_extension": ".py",
   "mimetype": "text/x-python",
   "name": "python",
   "nbconvert_exporter": "python",
   "pygments_lexer": "ipython3",
   "version": "3.12.0"
  }
 },
 "nbformat": 4,
 "nbformat_minor": 2
}
