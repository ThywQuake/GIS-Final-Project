{
 "cells": [
  {
   "cell_type": "code",
   "execution_count": 1,
   "metadata": {},
   "outputs": [],
   "source": [
    "import rasterio\n",
    "import numpy as np\n",
    "\n",
    "files=[\n",
    "    'lag_cloud_pollution.tif','lag_cloud_precip.tif','lag_precip_pollution.tif'\n",
    "]"
   ]
  },
  {
   "cell_type": "code",
   "execution_count": 22,
   "metadata": {},
   "outputs": [],
   "source": [
    "with rasterio.open('./clouds/monthly_mean_2019_1.tif') as src:\n",
    "    transform = src.transform\n",
    "    crs = src.crs\n",
    "\n",
    "def clean_data(file):\n",
    "    with rasterio.open(file,'r') as src:\n",
    "        data=np.array(src.read(),dtype='float64')\n",
    "        data[data==47]=np.nan\n",
    "        data[data==-47]=np.nan\n",
    "    return data"
   ]
  },
  {
   "cell_type": "code",
   "execution_count": 17,
   "metadata": {},
   "outputs": [],
   "source": [
    "with rasterio.open(files[0],'r') as src:\n",
    "    data=np.array(src.read(),dtype=np.float32)"
   ]
  },
  {
   "cell_type": "code",
   "execution_count": 20,
   "metadata": {},
   "outputs": [
    {
     "data": {
      "text/plain": [
       "array([[[nan, nan, nan, ..., nan, nan, nan],\n",
       "        [nan, nan, nan, ..., nan, nan, nan],\n",
       "        [nan, nan, nan, ..., nan, nan, nan],\n",
       "        ...,\n",
       "        [nan, nan, nan, ..., nan, nan, nan],\n",
       "        [nan, nan, nan, ..., nan, nan, nan],\n",
       "        [nan, nan, nan, ..., nan, nan, nan]]], dtype=float32)"
      ]
     },
     "execution_count": 20,
     "metadata": {},
     "output_type": "execute_result"
    }
   ],
   "source": [
    "data[data==47]=np.nan\n",
    "data[data==-47]=np.nan\n",
    "data"
   ]
  },
  {
   "cell_type": "code",
   "execution_count": 23,
   "metadata": {},
   "outputs": [
    {
     "name": "stdout",
     "output_type": "stream",
     "text": [
      "Cleaned lag_cloud_pollution.tif/4\n",
      "Wrote lag_cloud_pollution.tif/4\n",
      "Cleaned lag_cloud_precip.tif/4\n",
      "Wrote lag_cloud_precip.tif/4\n",
      "Cleaned lag_precip_pollution.tif/4\n",
      "Wrote lag_precip_pollution.tif/4\n"
     ]
    }
   ],
   "source": [
    "def write_data(data, filename):\n",
    "    with rasterio.open(\n",
    "        filename,\n",
    "        \"w\",\n",
    "        driver=\"GTiff\",\n",
    "        height=data.shape[1],\n",
    "        width=data.shape[2],\n",
    "        count=1,\n",
    "        dtype=data.dtype,\n",
    "        crs=crs,\n",
    "        transform=transform,\n",
    "    ) as dst:\n",
    "        dst.write(data)\n",
    "\n",
    "for f in files:\n",
    "    data=clean_data(f)\n",
    "    print(f'Cleaned {f}/4')\n",
    "    write_data(data,f)\n",
    "    print(f'Wrote {f}/4')"
   ]
  }
 ],
 "metadata": {
  "kernelspec": {
   "display_name": "gis",
   "language": "python",
   "name": "python3"
  },
  "language_info": {
   "codemirror_mode": {
    "name": "ipython",
    "version": 3
   },
   "file_extension": ".py",
   "mimetype": "text/x-python",
   "name": "python",
   "nbconvert_exporter": "python",
   "pygments_lexer": "ipython3",
   "version": "3.10.13"
  }
 },
 "nbformat": 4,
 "nbformat_minor": 2
}
