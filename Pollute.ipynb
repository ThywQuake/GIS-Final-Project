{
 "cells": [
  {
   "cell_type": "code",
   "execution_count": 8,
   "metadata": {},
   "outputs": [
    {
     "name": "stdout",
     "output_type": "stream",
     "text": [
      "Authenticating using Notebook auth...\n",
      "✓ Previously created authentication credentials were found.\n"
     ]
    }
   ],
   "source": [
    "import sys\n",
    "sys.path.append('../')\n",
    "from my_ee_imports import *\n",
    "\n",
    "ee_initialize()"
   ]
  },
  {
   "cell_type": "markdown",
   "metadata": {},
   "source": [
    "一些简单的初始化操作, 接下来我们看看之前的污染物地图是否值得使用:"
   ]
  },
  {
   "cell_type": "code",
   "execution_count": 9,
   "metadata": {},
   "outputs": [
    {
     "name": "stdout",
     "output_type": "stream",
     "text": [
      "NO2_column_number_density\n",
      "426\n"
     ]
    }
   ],
   "source": [
    "start='2019-01-01'\n",
    "end='2019-01-31'\n",
    "\n",
    "no2=ee.ImageCollection(\"COPERNICUS/S5P/OFFL/L3_NO2\").filterDate(start,end).select('NO2_column_number_density')\n",
    "print_info(no2)"
   ]
  },
  {
   "cell_type": "code",
   "execution_count": 13,
   "metadata": {},
   "outputs": [
    {
     "data": {
      "application/vnd.jupyter.widget-view+json": {
       "model_id": "87da97b54d584e0fadd45fafb6f82236",
       "version_major": 2,
       "version_minor": 0
      },
      "text/plain": [
       "Map(center=[40, 110], controls=(ZoomControl(options=['position', 'zoom_in_text', 'zoom_in_title', 'zoom_out_te…"
      ]
     },
     "execution_count": 13,
     "metadata": {},
     "output_type": "execute_result"
    }
   ],
   "source": [
    "with open(r'../shp/china.json') as f:\n",
    "        data = json.load(f)\n",
    "china=ee.FeatureCollection(data)\n",
    "boundary=ee.Image().paint(china,0,1)\n",
    "\n",
    "vis_params = {'min':-0.001,'max':0.02,'palette': ['black', 'blue', 'purple', 'cyan', 'green', 'yellow', 'red']}\n",
    "map1=create_map(no2.first().clip(china),vis_params,'China NO2')\n",
    "map1.addLayer(boundary,{},'China Boundary')\n",
    "map1"
   ]
  },
  {
   "cell_type": "code",
   "execution_count": null,
   "metadata": {},
   "outputs": [],
   "source": []
  }
 ],
 "metadata": {
  "kernelspec": {
   "display_name": "ee",
   "language": "python",
   "name": "python3"
  },
  "language_info": {
   "codemirror_mode": {
    "name": "ipython",
    "version": 3
   },
   "file_extension": ".py",
   "mimetype": "text/x-python",
   "name": "python",
   "nbconvert_exporter": "python",
   "pygments_lexer": "ipython3",
   "version": "3.12.0"
  }
 },
 "nbformat": 4,
 "nbformat_minor": 2
}
