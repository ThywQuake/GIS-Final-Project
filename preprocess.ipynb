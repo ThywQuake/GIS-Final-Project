{
 "cells": [
  {
   "cell_type": "code",
   "execution_count": 1,
   "metadata": {},
   "outputs": [],
   "source": [
    "import os\n",
    "import rasterio\n",
    "import numpy as np\n",
    "import pickle"
   ]
  },
  {
   "cell_type": "code",
   "execution_count": 2,
   "metadata": {},
   "outputs": [],
   "source": [
    "def read_image(file_path):\n",
    "    with rasterio.open(file_path) as src:\n",
    "        return src.read(1)\n",
    "\n",
    "# 读取 NOx 和 SOx 数据\n",
    "nox_folder = 'nox'\n",
    "sox_folder = 'sox'\n",
    "nox_files = sorted(os.listdir(nox_folder))\n",
    "sox_files = sorted(os.listdir(sox_folder))\n",
    "\n",
    "nox_data = np.array([read_image(os.path.join(nox_folder, f)) for f in nox_files])\n",
    "sox_data = np.array([read_image(os.path.join(sox_folder, f)) for f in sox_files])\n",
    "\n",
    "# 计算污染物浓度的平均值\n",
    "pollution = (nox_data + sox_data) / 2"
   ]
  },
  {
   "cell_type": "code",
   "execution_count": 3,
   "metadata": {},
   "outputs": [],
   "source": [
    "cloud_folder = 'clouds'\n",
    "cloud_files = sorted(os.listdir(cloud_folder))\n",
    "cloud = np.array([read_image(os.path.join(cloud_folder, f)) for f in cloud_files])\n",
    "\n",
    "precipitation_folder = 'pre'\n",
    "precipitation_files = sorted(os.listdir(precipitation_folder))\n",
    "precipitation = np.array([read_image(os.path.join(precipitation_folder, f)) for f in precipitation_files])"
   ]
  },
  {
   "cell_type": "code",
   "execution_count": 4,
   "metadata": {},
   "outputs": [],
   "source": [
    "\n",
    "with open('data.pkl', 'wb') as f:\n",
    "    pickle.dump((cloud, precipitation,pollution), f)"
   ]
  },
  {
   "cell_type": "code",
   "execution_count": 5,
   "metadata": {},
   "outputs": [],
   "source": [
    "# Normalize for each pixel\n",
    "cloud_max = cloud.max(axis=0)\n",
    "cloud_min = cloud.min(axis=0)\n",
    "cloud_delta = cloud_max - cloud_min\n",
    "cloud_norm= (cloud - cloud_min) / cloud_delta\n",
    "\n",
    "precipitation_max = precipitation.max(axis=0)\n",
    "precipitation_min = precipitation.min(axis=0)\n",
    "precipitation_delta = precipitation_max - precipitation_min\n",
    "precipitation_norm= (precipitation - precipitation_min) / precipitation_delta\n",
    "\n",
    "pollution_max = pollution.max(axis=0)\n",
    "pollution_min = pollution.min(axis=0)\n",
    "pollution_delta = pollution_max - pollution_min\n",
    "pollution_norm= (pollution - pollution_min) / pollution_delta\n",
    "\n"
   ]
  },
  {
   "cell_type": "code",
   "execution_count": 8,
   "metadata": {},
   "outputs": [],
   "source": [
    "with open('data_norm.pkl', 'wb') as f:\n",
    "    pickle.dump((cloud_norm, precipitation_norm,pollution_norm), f)"
   ]
  },
  {
   "cell_type": "code",
   "execution_count": 4,
   "metadata": {},
   "outputs": [],
   "source": [
    "cloud_mean = cloud.mean(axis=0)\n",
    "cloud_std = cloud.std(axis=0)\n",
    "cloud_zscore = (cloud - cloud_mean) / cloud_std\n",
    "\n",
    "precipitation_mean = precipitation.mean(axis=0)\n",
    "precipitation_std = precipitation.std(axis=0)\n",
    "precipitation_zscore = (precipitation - precipitation_mean) / precipitation_std\n",
    "\n",
    "pollution_mean = pollution.mean(axis=0)\n",
    "pollution_std = pollution.std(axis=0)\n",
    "pollution_zscore = (pollution - pollution_mean) / pollution_std\n",
    "\n",
    "with open('data_zscore.pkl', 'wb') as f:\n",
    "    pickle.dump((cloud_zscore, precipitation_zscore,pollution_zscore), f)"
   ]
  }
 ],
 "metadata": {
  "kernelspec": {
   "display_name": "gis",
   "language": "python",
   "name": "python3"
  },
  "language_info": {
   "codemirror_mode": {
    "name": "ipython",
    "version": 3
   },
   "file_extension": ".py",
   "mimetype": "text/x-python",
   "name": "python",
   "nbconvert_exporter": "python",
   "pygments_lexer": "ipython3",
   "version": "3.10.13"
  }
 },
 "nbformat": 4,
 "nbformat_minor": 2
}
